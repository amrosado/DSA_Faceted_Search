{
 "cells": [
  {
   "cell_type": "code",
   "execution_count": 2,
   "metadata": {
    "collapsed": true
   },
   "outputs": [],
   "source": [
    "import pymongo\n",
    "import shutil\n",
    "import hashlib\n",
    "import os\n",
    "import random\n",
    "import datetime\n",
    "import json\n",
    "from pprint import pprint\n",
    "con = pymongo.MongoClient('localhost',27017)\n",
    "FacetDB = con['faceted_search']"
   ]
  },
  {
   "cell_type": "code",
   "execution_count": 19,
   "metadata": {},
   "outputs": [
    {
     "name": "stdout",
     "output_type": "stream",
     "text": [
      "[u'system.profile', u'sessions', u'system.indexes', u'facet_filters', u'facet_images']\n"
     ]
    }
   ],
   "source": [
    "print FacetDB.collection_names()\n",
    "mo = FacetDB['facet_images']"
   ]
  },
  {
   "cell_type": "code",
   "execution_count": 4,
   "metadata": {},
   "outputs": [],
   "source": [
    "###  Each folder once unpacked should have a JSON file and a matching JPG file\n",
    "###  These original names should be stored in the DB perhaps, but I move them and we use a Sha256 as the new name\n",
    "XtractPath = '/home/dagutman/devel/FacetedSearch_V2/upload/extract/'\n",
    "XtractGrpID = 'fb67b10f73'"
   ]
  },
  {
   "cell_type": "code",
   "execution_count": 12,
   "metadata": {},
   "outputs": [
    {
     "name": "stdout",
     "output_type": "stream",
     "text": [
      "ISIC_MSK-1_1  ISIC_MSK-2_1  ISIC_SONIC_1  ISIC_UDA-1_1\tISIC_UDA-2_1\r\n"
     ]
    }
   ],
   "source": [
    "## API Modules used on the NODE server include move.js, parse_archive.js \n",
    "##parse_files.js\n",
    "! ls /home/dagutman/devel/FacetedSearch_V2/upload/extract/fb67b10f73/"
   ]
  },
  {
   "cell_type": "code",
   "execution_count": 1,
   "metadata": {},
   "outputs": [
    {
     "ename": "SyntaxError",
     "evalue": "invalid syntax (<ipython-input-1-a6adff605bd9>, line 9)",
     "output_type": "error",
     "traceback": [
      "\u001b[1;36m  File \u001b[1;32m\"<ipython-input-1-a6adff605bd9>\"\u001b[1;36m, line \u001b[1;32m9\u001b[0m\n\u001b[1;33m    LOGIC:\u001b[0m\n\u001b[1;37m         ^\u001b[0m\n\u001b[1;31mSyntaxError\u001b[0m\u001b[1;31m:\u001b[0m invalid syntax\n"
     ]
    }
   ],
   "source": [
    "### Get List of Files that have been created and need to be imported\n",
    "\n",
    "ImagesToIngest = []\n",
    "\n",
    "WebArchivePath = '/home/dagutman/devel/FacetedSearch_V2/upload/images/'\n",
    "\n",
    "\n",
    "\n",
    "LOGIC:\n",
    "    \n",
    "    If JSON FILE VALID, but NO MATCHING .JPG/.PNG/.TIFF:\n",
    "        \n",
    "        then:\n",
    "            \n",
    "            CHECK IF remoteURL is in JSON File , if so, user that!  \n",
    "    \n",
    "\n",
    "MAGIC TAG IN THE JSON FILE==  \"remoteURL\"\n",
    "\n",
    "\n",
    "\n",
    "for root, dirs, files in os.walk( os.path.join(XtractPath,XtractGrpID)):\n",
    "    for f in files:\n",
    "        if f.endswith('.jpg'):\n",
    "            CurImageInfo = {}\n",
    "            CurImagePath =  os.path.join(root,f)\n",
    "            CurJSONPath = CurImagePath.replace('.jpg','.json')\n",
    "            if os.path.isfile(CurJSONPath):\n",
    "                \n",
    "                sha256Id = hashlib.sha256()\n",
    "                \n",
    "                CurImageInfo['ImagePath'] = CurImagePath\n",
    "                CurImageInfo['JSONPath'] = CurJSONPath\n",
    "                CurImageInfo['__v'] =  0\n",
    "                sha256Id.update(CurImagePath)\n",
    "                sha256Id.update(datetime.datetime.now().isoformat())\n",
    "                #.update(datetime.datetime.now()).update(random.random())\n",
    "                    \n",
    "                CurImageInfo['SHA256'] = sha256Id.hexdigest()\n",
    "                \n",
    "                CurImageInfo['filesrc'] =   { 'src' :'local', 'filePath': \"somefilename.jpg\"  }\n",
    "                  Option B\n",
    "                        {'src': \"remote\", 'remoteURL': \"SomeURL\"}\n",
    "                \n",
    "                sha256Id.hexdigest() + '.jpg'\n",
    "                shutil.copy(CurImagePath, os.path.join(WebArchivePath,CurImageInfo['filename']))\n",
    "                \n",
    "                ### Actually load the JSON file\n",
    "                try:\n",
    "                    with open(CurJSONPath,'r') as jsfp:\n",
    "                        JSONData = json.load(jsfp)\n",
    "                    CurImageInfo['data'] = JSONData\n",
    "                    TempDict = {}  ## This is needed because the extract function is recursive\n",
    "                    FlattenedDict,FacetList = extract(JSONData,TempDict)\n",
    "                    CurImageInfo['facets'] = FacetList\n",
    "\n",
    "                    ImagesToIngest.append(CurImageInfo)\n",
    "                    mo.insert_one(CurImageInfo)\n",
    "                    pprint(CurImageInfo)\n",
    "                    sys.exit()\n",
    "#                 except:\n",
    "#                     print \"Unable to parse\",CurJSONPath\n",
    "            else:\n",
    "                print \"NO JSON found?\"\n",
    "                sys.exit()\n",
    "        break\n",
    "                \n",
    "print len(ImagesToIngest)\n",
    "# print ImagesToIngest[0]"
   ]
  },
  {
   "cell_type": "code",
   "execution_count": 18,
   "metadata": {},
   "outputs": [
    {
     "name": "stdout",
     "output_type": "stream",
     "text": [
      "{u'license': u'', u'updated': u'2015-12-04T15:31:35.475000+00:00', u'_id': u'5436e3d3bae478396759f351', u'description': u'', u'largeImage': {u'sourceName': u'tiff', u'originalId': u'566031df9fc3c126e1f48a16', u'fileId': u'5436e3d3bae478396759f352'}, u'created': u'2014-10-09T19:36:51.692000+00:00', u'baseParentType': u'collection', u'name': u'ISIC_0000320', u'meta': {u'p1a_user': u'5450e996bae47865794e4d0d', u'p1b_result': u'ok', u'p1a_stop_time': u'2014-10-31T18:22:59.437000+00:00', u'p1b_stop_time': u'2015-12-04T15:31:40.807000+00:00', u'reviewed': {u'accepted': True, u'userId': u'5436c6e7bae4780a676c8f93', u'time': u'2014-11-10T02:39:56.492000+00:00'}, u'unstructured': {u'id1': u'324', u'site': u'mod', u'diagnosis': u'nevus nos', u'localization': u'Lower limb'}, u'p1b_start_time': u'2015-12-04T15:30:31.866000+00:00', u'clinical': {u'benign_malignant': u'benign', u'age_approx': 55, u'sex': u'male', u'diagnosis': u'nevus', u'diagnosis_confirm_type': None, u'melanocytic': True}, u'p1a_start_time': u'2014-10-31T18:22:23.031000+00:00', u'p1a_result': u'ok', u'acquisition': {u'pixelsX': 767, u'pixelsY': 576}, u'p1b_user': u'54cb967ebae47819d8e4c724'}, u'baseParentId': u'55943cff9fc3c13155bcad5e', u'creatorId': u'5450e996bae47865794e4d0d', u'folderId': u'54b6e869bae4785ee2be8652', u'_modelType': u'item', u'size': 2628753}\n"
     ]
    }
   ],
   "source": [
    "ftl =  '/home/dagutman/devel/FacetedSearch_V2/upload/extract/fb67b10f73/ISIC_UDA-1_1/ISIC_0000450/ISIC_0000450.json'\n",
    "with open(CurJSONPath,'r') as jsfp:\n",
    "    JSONData = json.load(jsfp)\n",
    "print JSONData"
   ]
  },
  {
   "cell_type": "code",
   "execution_count": 72,
   "metadata": {},
   "outputs": [
    {
     "name": "stdout",
     "output_type": "stream",
     "text": [
      "3befae9084e02dbeb0a27545abd60f748cbb7f8f630b68a7d24c8335fbde9f32.jpg\r\n",
      "57f47536e680107bbc3a28188d49b266e162458bcbb8e85980cb30039fb92328.jpg\r\n",
      "5f9c485ea7997ddbf5fa5230b7ec24998ac0f18dd8d3cff760b6aa83b19d9d8d.jpg\r\n",
      "62b49abad723f1a41b0f57ba7b8b4463c88327a378fecd05719723207fc0e604.jpg\r\n",
      "65bac8d7ce092c7747fe7ff9aaa76d0671e6451d4bf6c599a8fe161a2b47abfa.jpg\r\n",
      "740b98cac93fdf506795919ebc6d80eae77544b3d24f96cf556bccc043b49c32.jpg\r\n",
      "a21126808fd8561d6ab7a14c6990b82b5c27f8405eff2c777df0c285228df94a.jpg\r\n",
      "a3b555c36f11ffe1cc6a8b73d192c92206dba2e3114f96c0d2f63dc098f510a8.jpg\r\n",
      "f763965799d28732b72e01a7da6534f3cadb764adac0424912d582346231e1c0.jpg\r\n"
     ]
    }
   ],
   "source": [
    "!ls /home/dagutman/devel/FacetedSearch_V2/upload/images/"
   ]
  },
  {
   "cell_type": "code",
   "execution_count": null,
   "metadata": {
    "collapsed": true
   },
   "outputs": [],
   "source": [
    "\n",
    "# The file that you ask is this one: server/api/extensions/socket_backend.js, where are used the following files: \n",
    "# 1) server/api/extensions/parse_archive\n",
    "# 2) server/api/extensions/parse_directory\n",
    "# 3) server/api/extensions/parse_files \n",
    "# 4) server/api/extensions/create_facets"
   ]
  },
  {
   "cell_type": "code",
   "execution_count": 69,
   "metadata": {},
   "outputs": [
    {
     "name": "stdout",
     "output_type": "stream",
     "text": [
      "[u'facets', u'_id', u'data', u'__v', u'filename']\n"
     ]
    }
   ],
   "source": [
    "pprint(mo.find_one().keys())\n",
    "\n",
    "\n",
    "sampleObj = mo.find_one()\n",
    "\n",
    "sampleJSON = sampleObj['data']\n",
    "sampleFacet = sampleObj['facets']\n",
    "## Top Level properties include _id, data, __v presumably version, filename and facets"
   ]
  },
  {
   "cell_type": "code",
   "execution_count": 64,
   "metadata": {},
   "outputs": [
    {
     "name": "stdout",
     "output_type": "stream",
     "text": [
      "{u'__v': 0,\n",
      " u'_id': ObjectId('58d961ae7f0c8f13967e8dde'),\n",
      " u'data': {u'_id': u'5592ac4a9fc3c13155a57a67',\n",
      "           u'_modelType': u'item',\n",
      "           u'baseParentId': u'55943cff9fc3c13155bcad5e',\n",
      "           u'baseParentType': u'collection',\n",
      "           u'created': u'2015-06-30T14:48:42.358000+00:00',\n",
      "           u'creatorId': u'54cb974fbae47819d8e4c727',\n",
      "           u'description': u'',\n",
      "           u'folderId': u'5627f42b9fc3c132be08d84f',\n",
      "           u'largeImage': {u'fileId': u'5592ac4a9fc3c13155a57a6a',\n",
      "                           u'originalId': u'5592ac4a9fc3c13155a57a68',\n",
      "                           u'sourceName': u'tiff'},\n",
      "           u'license': u'',\n",
      "           u'meta': {u'acquisition': {u'pixelsX': 6668, u'pixelsY': 4439},\n",
      "                     u'clinical': {u'age_approx': 55,\n",
      "                                   u'benign_malignant': u'malignant',\n",
      "                                   u'diagnosis': u'basal cell carcinoma',\n",
      "                                   u'diagnosis_confirm_type': u'histopathology',\n",
      "                                   u'melanocytic': False,\n",
      "                                   u'sex': u'female'},\n",
      "                     u'p1a_result': u'ok',\n",
      "                     u'p1a_start_time': u'2015-08-25T13:29:23.573000+00:00',\n",
      "                     u'p1a_stop_time': u'2015-08-25T13:29:34.884000+00:00',\n",
      "                     u'p1a_user': u'55d4cde89fc3c1490e995086',\n",
      "                     u'reviewed': {u'accepted': True,\n",
      "                                   u'time': u'2015-08-21T14:44:18.147000+00:00',\n",
      "                                   u'userId': u'54cb967ebae47819d8e4c724'},\n",
      "                     u'unstructured': {u'Breslow': u'',\n",
      "                                       u'Clark': u'',\n",
      "                                       u'biopsy done': u'Y',\n",
      "                                       u'clinical diagnosis/impression': u'',\n",
      "                                       u'dermoscopy': u'NPD',\n",
      "                                       u'lesion id': u'562',\n",
      "                                       u'localization': u'r calf',\n",
      "                                       u'pathology diagnosis': u'basal cell carninoma',\n",
      "                                       u'pathology diagnosis subtype': u'pigmented',\n",
      "                                       u'pathology report available': u'Y',\n",
      "                                       u'patient': u'1',\n",
      "                                       u'previous biopsy': u'N'}},\n",
      "           u'name': u'ISIC_0011403',\n",
      "           u'size': 36662184,\n",
      "           u'updated': u'2015-08-25T13:29:31.339000+00:00'},\n",
      " u'facets': [{u'id': u'size', u'name': u'size', u'value': 36662184},\n",
      "             {u'id': u'license', u'name': u'license', u'value': u'no value'},\n",
      "             {u'id': u'updated',\n",
      "              u'name': u'updated',\n",
      "              u'value': u'2015-08-25T13:29:31.339000+00:00'},\n",
      "             {u'id': u'folderId',\n",
      "              u'name': u'folderId',\n",
      "              u'value': u'5627f42b9fc3c132be08d84f'},\n",
      "             {u'id': u'description',\n",
      "              u'name': u'description',\n",
      "              u'value': u'no value'},\n",
      "             {u'id': u'largeImage|sourceName',\n",
      "              u'name': u'sourceName',\n",
      "              u'value': u'tiff'},\n",
      "             {u'id': u'largeImage|originalId',\n",
      "              u'name': u'originalId',\n",
      "              u'value': u'5592ac4a9fc3c13155a57a68'},\n",
      "             {u'id': u'largeImage|fileId',\n",
      "              u'name': u'fileId',\n",
      "              u'value': u'5592ac4a9fc3c13155a57a6a'},\n",
      "             {u'id': u'created',\n",
      "              u'name': u'created',\n",
      "              u'value': u'2015-06-30T14:48:42.358000+00:00'},\n",
      "             {u'id': u'baseParentType',\n",
      "              u'name': u'baseParentType',\n",
      "              u'value': u'collection'},\n",
      "             {u'id': u'meta|p1a_user',\n",
      "              u'name': u'p1a_user',\n",
      "              u'value': u'55d4cde89fc3c1490e995086'},\n",
      "             {u'id': u'meta|p1a_stop_time',\n",
      "              u'name': u'p1a_stop_time',\n",
      "              u'value': u'2015-08-25T13:29:34.884000+00:00'},\n",
      "             {u'id': u'meta|reviewed|accepted',\n",
      "              u'name': u'accepted',\n",
      "              u'value': u'true'},\n",
      "             {u'id': u'meta|reviewed|userId',\n",
      "              u'name': u'userId',\n",
      "              u'value': u'54cb967ebae47819d8e4c724'},\n",
      "             {u'id': u'meta|reviewed|time',\n",
      "              u'name': u'time',\n",
      "              u'value': u'2015-08-21T14:44:18.147000+00:00'},\n",
      "             {u'id': u'meta|unstructured|pathology report available',\n",
      "              u'name': u'pathology report available',\n",
      "              u'value': u'Y'},\n",
      "             {u'id': u'meta|unstructured|dermoscopy',\n",
      "              u'name': u'dermoscopy',\n",
      "              u'value': u'NPD'},\n",
      "             {u'id': u'meta|unstructured|patient',\n",
      "              u'name': u'patient',\n",
      "              u'value': u'1'},\n",
      "             {u'id': u'meta|unstructured|Clark',\n",
      "              u'name': u'Clark',\n",
      "              u'value': u'no value'},\n",
      "             {u'id': u'meta|unstructured|localization',\n",
      "              u'name': u'localization',\n",
      "              u'value': u'r calf'},\n",
      "             {u'id': u'meta|unstructured|previous biopsy',\n",
      "              u'name': u'previous biopsy',\n",
      "              u'value': u'N'},\n",
      "             {u'id': u'meta|unstructured|pathology diagnosis subtype',\n",
      "              u'name': u'pathology diagnosis subtype',\n",
      "              u'value': u'pigmented'},\n",
      "             {u'id': u'meta|unstructured|clinical diagnosis/impression',\n",
      "              u'name': u'clinical diagnosis/impression',\n",
      "              u'value': u'no value'},\n",
      "             {u'id': u'meta|unstructured|pathology diagnosis',\n",
      "              u'name': u'pathology diagnosis',\n",
      "              u'value': u'basal cell carninoma'},\n",
      "             {u'id': u'meta|unstructured|Breslow',\n",
      "              u'name': u'Breslow',\n",
      "              u'value': u'no value'},\n",
      "             {u'id': u'meta|unstructured|lesion id',\n",
      "              u'name': u'lesion id',\n",
      "              u'value': u'562'},\n",
      "             {u'id': u'meta|unstructured|biopsy done',\n",
      "              u'name': u'biopsy done',\n",
      "              u'value': u'Y'},\n",
      "             {u'id': u'meta|clinical|benign_malignant',\n",
      "              u'name': u'benign_malignant',\n",
      "              u'value': u'malignant'},\n",
      "             {u'id': u'meta|clinical|age_approx',\n",
      "              u'name': u'age_approx',\n",
      "              u'value': 55},\n",
      "             {u'id': u'meta|clinical|sex',\n",
      "              u'name': u'sex',\n",
      "              u'value': u'female'},\n",
      "             {u'id': u'meta|clinical|diagnosis',\n",
      "              u'name': u'diagnosis',\n",
      "              u'value': u'basal cell carcinoma'},\n",
      "             {u'id': u'meta|clinical|diagnosis_confirm_type',\n",
      "              u'name': u'diagnosis_confirm_type',\n",
      "              u'value': u'histopathology'},\n",
      "             {u'id': u'meta|clinical|melanocytic',\n",
      "              u'name': u'melanocytic',\n",
      "              u'value': u'false'},\n",
      "             {u'id': u'meta|p1a_result',\n",
      "              u'name': u'p1a_result',\n",
      "              u'value': u'ok'},\n",
      "             {u'id': u'meta|acquisition|pixelsX',\n",
      "              u'name': u'pixelsX',\n",
      "              u'value': 6668},\n",
      "             {u'id': u'meta|acquisition|pixelsY',\n",
      "              u'name': u'pixelsY',\n",
      "              u'value': 4439},\n",
      "             {u'id': u'meta|p1a_start_time',\n",
      "              u'name': u'p1a_start_time',\n",
      "              u'value': u'2015-08-25T13:29:23.573000+00:00'},\n",
      "             {u'id': u'baseParentId',\n",
      "              u'name': u'baseParentId',\n",
      "              u'value': u'55943cff9fc3c13155bcad5e'},\n",
      "             {u'id': u'creatorId',\n",
      "              u'name': u'creatorId',\n",
      "              u'value': u'54cb974fbae47819d8e4c727'},\n",
      "             {u'id': u'_id',\n",
      "              u'name': u'_id',\n",
      "              u'value': u'5592ac4a9fc3c13155a57a67'},\n",
      "             {u'id': u'_modelType',\n",
      "              u'name': u'_modelType',\n",
      "              u'value': u'item'},\n",
      "             {u'id': u'name', u'name': u'name', u'value': u'ISIC_0011403'}],\n",
      " u'filename': u'740b98cac93fdf506795919ebc6d80eae77544b3d24f96cf556bccc043b49c32.jpg'}\n"
     ]
    }
   ],
   "source": [
    "\n",
    "\n",
    "pprint(sampleObj)"
   ]
  },
  {
   "cell_type": "code",
   "execution_count": 9,
   "metadata": {},
   "outputs": [],
   "source": [
    "def extract(dict_in, dict_out):\n",
    "    for key, value in dict_in.iteritems():\n",
    "        if isinstance(value, dict): # If value itself is dictionary\n",
    "            ### Need to update all the keys in value to include the key and insert a hash\n",
    "            newD = {}\n",
    "            for k,v in value.iteritems():\n",
    "                ### Need to parse null values\n",
    "                if isinstance(v,unicode):  #                 if ( v.isinstance('string') ):\n",
    "                    if v==\"\":\n",
    "                        v= \"no value\"\n",
    "                newD[key+'|'+k] = v\n",
    "            value = newD\n",
    "            extract(value, dict_out)\n",
    "        else:  #         elif isinstance(value, unicode):\n",
    "            # Write to dict_out\n",
    "            if value==\"\":\n",
    "                value= \"no value\"\n",
    "            dict_out[key] = value\n",
    "    facetList = []\n",
    "    for k,v in dict_out.iteritems():\n",
    "        facetList.append( {'id': k, 'value': v, 'name': k.split('|')[-1]})\n",
    "    ### The FacetList is actually a list \n",
    "    return dict_out, facetList\n",
    "# if (\n",
    "#                     (is.string(value) && value.trim === \"\")\n",
    "#                     || (!value && !is.boolean(value))\n",
    "#                 ) {\n",
    "#                     value = \"no value\";\n",
    "#                 } else if (is.boolean(value)) {\n",
    "#                     value = value + \"\";\n",
    "#                 }"
   ]
  },
  {
   "cell_type": "code",
   "execution_count": 62,
   "metadata": {},
   "outputs": [
    {
     "name": "stdout",
     "output_type": "stream",
     "text": [
      "{'id': u'meta|reviewed|accepted', 'value': True, 'name': u'accepted'}\n",
      "{'id': u'meta|clinical|melanocytic', 'value': False, 'name': u'melanocytic'}\n",
      "[{u'name': u'size', u'value': 36662184, u'id': u'size'}, {u'name': u'license', u'value': u'no value', u'id': u'license'}, {u'name': u'updated', u'value': u'2015-08-25T13:29:31.339000+00:00', u'id': u'updated'}, {u'name': u'folderId', u'value': u'5627f42b9fc3c132be08d84f', u'id': u'folderId'}, {u'name': u'description', u'value': u'no value', u'id': u'description'}, {u'name': u'sourceName', u'value': u'tiff', u'id': u'largeImage|sourceName'}, {u'name': u'originalId', u'value': u'5592ac4a9fc3c13155a57a68', u'id': u'largeImage|originalId'}, {u'name': u'fileId', u'value': u'5592ac4a9fc3c13155a57a6a', u'id': u'largeImage|fileId'}, {u'name': u'created', u'value': u'2015-06-30T14:48:42.358000+00:00', u'id': u'created'}, {u'name': u'baseParentType', u'value': u'collection', u'id': u'baseParentType'}, {u'name': u'p1a_user', u'value': u'55d4cde89fc3c1490e995086', u'id': u'meta|p1a_user'}, {u'name': u'p1a_stop_time', u'value': u'2015-08-25T13:29:34.884000+00:00', u'id': u'meta|p1a_stop_time'}, {u'name': u'accepted', u'value': u'true', u'id': u'meta|reviewed|accepted'}, {u'name': u'userId', u'value': u'54cb967ebae47819d8e4c724', u'id': u'meta|reviewed|userId'}, {u'name': u'time', u'value': u'2015-08-21T14:44:18.147000+00:00', u'id': u'meta|reviewed|time'}, {u'name': u'pathology report available', u'value': u'Y', u'id': u'meta|unstructured|pathology report available'}, {u'name': u'dermoscopy', u'value': u'NPD', u'id': u'meta|unstructured|dermoscopy'}, {u'name': u'patient', u'value': u'1', u'id': u'meta|unstructured|patient'}, {u'name': u'Clark', u'value': u'no value', u'id': u'meta|unstructured|Clark'}, {u'name': u'localization', u'value': u'r calf', u'id': u'meta|unstructured|localization'}, {u'name': u'previous biopsy', u'value': u'N', u'id': u'meta|unstructured|previous biopsy'}, {u'name': u'pathology diagnosis subtype', u'value': u'pigmented', u'id': u'meta|unstructured|pathology diagnosis subtype'}, {u'name': u'clinical diagnosis/impression', u'value': u'no value', u'id': u'meta|unstructured|clinical diagnosis/impression'}, {u'name': u'pathology diagnosis', u'value': u'basal cell carninoma', u'id': u'meta|unstructured|pathology diagnosis'}, {u'name': u'Breslow', u'value': u'no value', u'id': u'meta|unstructured|Breslow'}, {u'name': u'lesion id', u'value': u'562', u'id': u'meta|unstructured|lesion id'}, {u'name': u'biopsy done', u'value': u'Y', u'id': u'meta|unstructured|biopsy done'}, {u'name': u'benign_malignant', u'value': u'malignant', u'id': u'meta|clinical|benign_malignant'}, {u'name': u'age_approx', u'value': 55, u'id': u'meta|clinical|age_approx'}, {u'name': u'sex', u'value': u'female', u'id': u'meta|clinical|sex'}, {u'name': u'diagnosis', u'value': u'basal cell carcinoma', u'id': u'meta|clinical|diagnosis'}, {u'name': u'diagnosis_confirm_type', u'value': u'histopathology', u'id': u'meta|clinical|diagnosis_confirm_type'}, {u'name': u'melanocytic', u'value': u'false', u'id': u'meta|clinical|melanocytic'}, {u'name': u'p1a_result', u'value': u'ok', u'id': u'meta|p1a_result'}, {u'name': u'pixelsX', u'value': 6668, u'id': u'meta|acquisition|pixelsX'}, {u'name': u'pixelsY', u'value': 4439, u'id': u'meta|acquisition|pixelsY'}, {u'name': u'p1a_start_time', u'value': u'2015-08-25T13:29:23.573000+00:00', u'id': u'meta|p1a_start_time'}, {u'name': u'baseParentId', u'value': u'55943cff9fc3c13155bcad5e', u'id': u'baseParentId'}, {u'name': u'creatorId', u'value': u'54cb974fbae47819d8e4c727', u'id': u'creatorId'}, {u'name': u'_id', u'value': u'5592ac4a9fc3c13155a57a67', u'id': u'_id'}, {u'name': u'_modelType', u'value': u'item', u'id': u'_modelType'}, {u'name': u'name', u'value': u'ISIC_0011403', u'id': u'name'}]\n"
     ]
    }
   ],
   "source": [
    "lookatME = {}\n",
    "FlattenedDict,FacetList = extract(sampleJSON,lookatME)\n",
    "#print FacetList\n",
    "## #Only difference is how it parses booleans.. true/false vs True/False\n",
    "for fl in FacetList:\n",
    "    if fl not in sampleFacet:\n",
    "        print fl\n",
    "print sampleFacet\n"
   ]
  },
  {
   "cell_type": "code",
   "execution_count": null,
   "metadata": {
    "collapsed": true
   },
   "outputs": [],
   "source": []
  },
  {
   "cell_type": "code",
   "execution_count": null,
   "metadata": {
    "collapsed": true
   },
   "outputs": [],
   "source": []
  }
 ],
 "metadata": {
  "kernelspec": {
   "display_name": "Python 2",
   "language": "python",
   "name": "python2"
  },
  "language_info": {
   "codemirror_mode": {
    "name": "ipython",
    "version": 2
   },
   "file_extension": ".py",
   "mimetype": "text/x-python",
   "name": "python",
   "nbconvert_exporter": "python",
   "pygments_lexer": "ipython2",
   "version": "2.7.13"
  }
 },
 "nbformat": 4,
 "nbformat_minor": 1
}
