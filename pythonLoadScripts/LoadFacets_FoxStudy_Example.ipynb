{
 "cells": [
  {
   "cell_type": "code",
   "execution_count": 65,
   "metadata": {
    "collapsed": true
   },
   "outputs": [],
   "source": [
    "## This will connect to a girder client, as well as a local Mongo instance and create/load the data\n",
    "## needed to generate a faceted search view\n",
    "import pymongo\n",
    "import girder_client\n",
    "import json, os, sys\n",
    "from pprint import pprint\n",
    "import girder_utils\n",
    "from IPython.display import Image\n",
    "%matplotlib inline\n",
    "DSA_BaseURL = 'http://candygram.neurology.emory.edu:8080/api/v1/'"
   ]
  },
  {
   "cell_type": "code",
   "execution_count": 60,
   "metadata": {},
   "outputs": [],
   "source": [
    "localMongo = pymongo.MongoClient('localhost',27017)  # connects to mongo database on my laptop\n",
    "Fox_Facets_DB = localMongo['FOX_faceted_search']\n",
    "## This is a connnection to the faceted_search database that was created when\n",
    "# I loaded some test data\n",
    "fsTestDB  = localMongo['faceted_search'] "
   ]
  },
  {
   "cell_type": "code",
   "execution_count": 15,
   "metadata": {},
   "outputs": [],
   "source": [
    "## Create a girder client so I can grab some test images and metadata\n",
    "gc = girder_client.GirderClient(apiUrl=\"http://candygram.neurology.emory.edu:8080/api/v1/\")"
   ]
  },
  {
   "cell_type": "code",
   "execution_count": 19,
   "metadata": {},
   "outputs": [
    {
     "name": "stdout",
     "output_type": "stream",
     "text": [
      "{u'size': 4097455337662, u'updated': u'2017-07-05T15:41:39.130000+00:00', u'publicFlags': [], u'description': u'', u'created': u'2017-07-05T15:41:39.130000+00:00', u'public': True, u'_id': u'595d08b392ca9a000d0748df', u'_modelType': u'collection', u'_accessLevel': 0, u'name': u'FOX_DATA'}\n"
     ]
    }
   ],
   "source": [
    "## Find the UID for the FoxData Collection\n",
    "Fox_UID = \"\"\n",
    "for c in gc.listCollection():\n",
    "    if 'FOX' in c['name']:\n",
    "        print c\n",
    "        Fox_UID = c['_id'] \n",
    "## If there's more than one collection with the word FOX in it, update the filter above"
   ]
  },
  {
   "cell_type": "code",
   "execution_count": 28,
   "metadata": {},
   "outputs": [
    {
     "name": "stdout",
     "output_type": "stream",
     "text": [
      "Retrieving slides in 2017-05-12 ; 53 files are in the current folder\n",
      "Retrieving slides in 2017-05-13 ; 6 files are in the current folder\n",
      "Retrieving slides in 2017-05-15 ; 106 files are in the current folder\n",
      "Retrieving slides in 2017-06-15 ; 84 files are in the current folder\n",
      "Retrieving slides in 2017-06-20 ; 70 files are in the current folder\n",
      "Retrieving slides in 2017-06-21 ; 1 files are in the current folder\n",
      "Retrieving slides in 2017-06-22 ; 25 files are in the current folder\n",
      "Retrieving slides in 2017-06-23 ; 390 files are in the current folder\n",
      "Retrieving slides in 2017-06-24 ; 166 files are in the current folder\n",
      "Retrieving slides in 2017-06-25 ; 39 files are in the current folder\n",
      "Retrieving slides in 2017-06-26 ; 175 files are in the current folder\n",
      "Retrieving slides in 2017-06-27 ; 146 files are in the current folder\n",
      "Retrieving slides in 2017-07-14 ; 238 files are in the current folder\n",
      "Retrieving slides in 2017-07-17 ; 24 files are in the current folder\n",
      "Retrieving slides in CuratedFoxData ; 1437 files are in the current folder\n",
      "Retrieving slides in RawSlideSet ; 686 files are in the current folder\n"
     ]
    }
   ],
   "source": [
    "## Get all the slides in this collection using the recursive function in girder_utils\n",
    "TopLevelFolders = gc.listFolder(Fox_UID,parentFolderType='collection')\n",
    "\n",
    "FoxSlideDict = {}  ## I am creating a dict where the top level key is the folder name, and then\n",
    "## below that are slides in that folder\n",
    "\n",
    "for tlf in TopLevelFolders:\n",
    "    SlidesInFolder = girder_utils.recurseGetItems(gc,tlf['_id'])\n",
    "    print \"Retrieving slides in\",tlf['name'],\";\", len(SlidesInFolder),\"files are in the current folder\"\n",
    "    FoxSlideDict[tlf['name']] = SlidesInFolder"
   ]
  },
  {
   "cell_type": "code",
   "execution_count": 70,
   "metadata": {},
   "outputs": [
    {
     "data": {
      "image/jpeg": "[encoded data removed]",
      "text/plain": [
       "<IPython.core.display.Image object>"
      ]
     },
     "execution_count": 70,
     "metadata": {},
     "output_type": "execute_result"
    }
   ],
   "source": [
    "sampleSlide =  FoxSlideDict['2017-05-12'][0]\n",
    "## We now need a couple of things.. most importantly a URL to view the thumbnail\n",
    "thumbWidth = thumbHeight = 224\n",
    "curImageThumbUrl = '/item/%s/tiles/thumbnail?width=%s&height=%s&fill=white' % (sampleSlide['_id'], thumbWidth, thumbHeight)\n",
    "curImage = gc.get(curImageThumbUrl,  jsonResp=False)\n",
    "\n",
    "Image(sampImageUrl.content)"
   ]
  },
  {
   "cell_type": "code",
   "execution_count": null,
   "metadata": {
    "collapsed": true
   },
   "outputs": [],
   "source": [
    "## lets try and directly load data into our facet_images collection"
   ]
  },
  {
   "cell_type": "code",
   "execution_count": 56,
   "metadata": {},
   "outputs": [
    {
     "name": "stdout",
     "output_type": "stream",
     "text": [
      "[u'servicedatas', u'system.indexes', u'sessions', u'facet_images', u'facet_filters']\n"
     ]
    }
   ],
   "source": [
    "sampleTestRec = fsTestDB.facet_images.find_one()\n",
    "## This pulls a single entry from our testDB so I can know the format I need for creating a new document\n",
    "sampleTestRec.keys()\n",
    "print fsTestDB.collection_names()"
   ]
  },
  {
   "cell_type": "code",
   "execution_count": 75,
   "metadata": {},
   "outputs": [
    {
     "name": "stdout",
     "output_type": "stream",
     "text": [
      "Loading 76 records into mongo facet collection\n"
     ]
    },
    {
     "name": "stderr",
     "output_type": "stream",
     "text": [
      "/home/dagutman/anaconda2/lib/python2.7/site-packages/ipykernel_launcher.py:31: DeprecationWarning: remove is deprecated. Use delete_one or delete_many instead.\n"
     ]
    },
    {
     "data": {
      "text/plain": [
       "<pymongo.results.InsertManyResult at 0x7f45adf3dbd8>"
      ]
     },
     "execution_count": 75,
     "metadata": {},
     "output_type": "execute_result"
    }
   ],
   "source": [
    "## Let's try and create and then insert a document into our faceted search table\n",
    "clearCurrentData = True\n",
    "mongoDataToLoad = []\n",
    "\n",
    "\n",
    "for tlf in FoxSlideDict:\n",
    "\n",
    "    for sld in FoxSlideDict[tlf][:5]:\n",
    "        thumbWidth = thumbHeight = 224  ## Probably should make this configurable directly in the UI/app itself\n",
    "        facetSync_version = '0.1'\n",
    "        slideData = sld\n",
    "        slideUrl =  DSA_BaseURL + 'item/%s/tiles/thumbnail?width=%s&height=%s&fill=white' % (sld['_id'], thumbWidth, thumbHeight)\n",
    "        facetSet = {}\n",
    "        extract(slideData, facetSet)\n",
    "        #Let's inject some additional metadata\n",
    "        ## To do--- add \"ignore\" keys to the extract function as some of the stuff that I am currently indexing\n",
    "        ## is not in any way useful\n",
    "\n",
    "        slideData['largeImage'] = { 'src': slideUrl}\n",
    "        slideData['rootFolder'] = tlf\n",
    "\n",
    "        facetRecord = {'filesrc': slideUrl, 'data': slideData, '__v': facetSync_version, 'facets': facetSet, 'largeImage':  {'src': slideUrl}}\n",
    "\n",
    "        mongoDataToLoad.append(facetRecord)\n",
    "\n",
    "print \"Loading %d records into mongo facet collection\" % len(mongoDataToLoad)\n",
    "\n",
    "if clearCurrentData:\n",
    "    Fox_Facets_DB['facet_images'].remove({}); #Empty the collection\n",
    "      \n",
    "Fox_Facets_DB['facet_images'].insert_many(mongoDataToLoad)\n",
    "## Add in a post request to hit the local API and refresh the data\n",
    "\n",
    "###http://localhost:8000/api/facets/updateCache"
   ]
  },
  {
   "cell_type": "code",
   "execution_count": 71,
   "metadata": {},
   "outputs": [
    {
     "name": "stderr",
     "output_type": "stream",
     "text": [
      "/home/dagutman/anaconda2/lib/python2.7/site-packages/ipykernel_launcher.py:1: DeprecationWarning: remove is deprecated. Use delete_one or delete_many instead.\n",
      "  \"\"\"Entry point for launching an IPython kernel.\n"
     ]
    }
   ],
   "source": [
    "Fox_Facets_DB['facet_images'].remove({});"
   ]
  },
  {
   "cell_type": "code",
   "execution_count": 30,
   "metadata": {
    "collapsed": true
   },
   "outputs": [],
   "source": [
    "def extract(dict_in, dict_out, keysToPrune = False):\n",
    "    \n",
    "    \n",
    "    for key, value in dict_in.iteritems():\n",
    "        if isinstance(value, dict): # If value itself is dictionary\n",
    "            ### Need to update all the keys in value to include the key and insert a hash\n",
    "            newD = {}\n",
    "            for k,v in value.iteritems():\n",
    "                ### Need to parse null values\n",
    "                if isinstance(v,unicode):  #                 if ( v.isinstance('string') ):\n",
    "                    if v==\"\":\n",
    "                        v= \"no value\"\n",
    "                newD[key+'|'+k] = v\n",
    "            value = newD\n",
    "            extract(value, dict_out)\n",
    "        else:  #         elif isinstance(value, unicode):\n",
    "            # Write to dict_out\n",
    "            if value==\"\":\n",
    "                value= \"no value\"\n",
    "            dict_out[key] = value\n",
    "    facetList = []\n",
    "    for k,v in dict_out.iteritems():\n",
    "        facetList.append( {'id': k, 'value': v, 'name': k.split('|')[-1]})\n",
    "    ### The FacetList is actually a list \n",
    "    return dict_out, facetList"
   ]
  },
  {
   "cell_type": "code",
   "execution_count": null,
   "metadata": {
    "collapsed": true
   },
   "outputs": [],
   "source": []
  },
  {
   "cell_type": "code",
   "execution_count": null,
   "metadata": {
    "collapsed": true
   },
   "outputs": [],
   "source": []
  },
  {
   "cell_type": "code",
   "execution_count": null,
   "metadata": {
    "collapsed": true
   },
   "outputs": [],
   "source": []
  }
 ],
 "metadata": {
  "kernelspec": {
   "display_name": "Python 2",
   "language": "python",
   "name": "python2"
  },
  "language_info": {
   "codemirror_mode": {
    "name": "ipython",
    "version": 2
   },
   "file_extension": ".py",
   "mimetype": "text/x-python",
   "name": "python",
   "nbconvert_exporter": "python",
   "pygments_lexer": "ipython2",
   "version": "2.7.13"
  }
 },
 "nbformat": 4,
 "nbformat_minor": 2
}
